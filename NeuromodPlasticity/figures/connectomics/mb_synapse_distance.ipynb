{
 "cells": [
  {
   "cell_type": "code",
   "execution_count": 1,
   "id": "9ffb67bb",
   "metadata": {},
   "outputs": [],
   "source": [
    "import numpy as np\n",
    "import pandas as pd\n",
    "import scipy as sp\n",
    "import pathlib\n",
    "import os\n",
    "from multiprocessing import Pool\n",
    "\n",
    "import seaborn as sns\n",
    "from matplotlib import pyplot as plt\n",
    "import networkx as nx\n",
    "\n",
    "import navis \n",
    "import navis.interfaces.neuprint as neu\n",
    "import neuprint as neu_orig\n",
    "import NeuromodPlasticity as nmp \n",
    "\n",
    "\n",
    "plt.rcParams['pdf.fonttype']=42\n",
    "\n",
    "%load_ext autoreload\n",
    "%autoreload 2 \n",
    "\n",
    "\n",
    "%matplotlib inline"
   ]
  },
  {
   "cell_type": "code",
   "execution_count": 2,
   "id": "96a72534",
   "metadata": {},
   "outputs": [],
   "source": [
    "figfolder = pathlib.Path('/media/mplitt/SSD_storage/fig_scratch/EL_connectomics')\n",
    "figfolder.mkdir(parents=True, exist_ok=True)"
   ]
  },
  {
   "cell_type": "code",
   "execution_count": 3,
   "id": "9a03d714",
   "metadata": {},
   "outputs": [],
   "source": [
    "c = nmp.connectomics.npt_client()"
   ]
  },
  {
   "cell_type": "code",
   "execution_count": 3,
   "id": "bb56f6d1",
   "metadata": {},
   "outputs": [
    {
     "data": {
      "application/vnd.jupyter.widget-view+json": {
       "model_id": "22f214cd9cda4c0481c825dc0e2a3ce7",
       "version_major": 2,
       "version_minor": 0
      },
      "text/plain": [
       "  0%|          | 0/119899 [00:00<?, ?it/s]"
      ]
     },
     "metadata": {},
     "output_type": "display_data"
    },
    {
     "data": {
      "application/vnd.jupyter.widget-view+json": {
       "model_id": "06208cd531bf4252a328f9520f5515e9",
       "version_major": 2,
       "version_minor": 0
      },
      "text/plain": [
       "  0%|          | 0/47541 [00:00<?, ?it/s]"
      ]
     },
     "metadata": {},
     "output_type": "display_data"
    }
   ],
   "source": [
    "kcs, _ = neu.queries.fetch_neurons(neu.NeuronCriteria(type='KCg.*'))\n",
    "mbons, _ = neu.queries.fetch_neurons(neu.NeuronCriteria(type='MBON.*', \n",
    "                                                        inputRois=['gL(L)', 'gL(R)'], roi_req='any'))\n",
    "\n",
    "dans, _ = neu.queries.fetch_neurons(neu.NeuronCriteria(type=['PPL.*', 'PAM.*'],\n",
    "                                                       outputRois = ['gL(L)', 'gL(R)'], roi_req='any'))                                               \n",
    "\n",
    "\n",
    "kc_mbon_synapses = neu_orig.fetch_synapse_connections(kcs['bodyId'],\n",
    "                                                      mbons['bodyId'],\n",
    "                                                      neu_orig.SynapseCriteria(rois=['gL(L)', 'gL(R)'])\n",
    "                                                      ) \n",
    "\n",
    "dan_kc_synapses = neu_orig.fetch_synapse_connections(dans['bodyId'],\n",
    "                                                      kcs['bodyId'],\n",
    "                                                      neu_orig.SynapseCriteria(rois=['gL(L)', 'gL(R)'])\n",
    "                                                      )"
   ]
  },
  {
   "cell_type": "code",
   "execution_count": 4,
   "id": "a7d368cd",
   "metadata": {},
   "outputs": [],
   "source": [
    "kc_syns = pd.concat([kc_mbon_synapses, dan_kc_synapses], ignore_index=True)"
   ]
  },
  {
   "cell_type": "code",
   "execution_count": 5,
   "id": "9861fde0",
   "metadata": {},
   "outputs": [
    {
     "data": {
      "text/html": [
       "<div>\n",
       "<style scoped>\n",
       "    .dataframe tbody tr th:only-of-type {\n",
       "        vertical-align: middle;\n",
       "    }\n",
       "\n",
       "    .dataframe tbody tr th {\n",
       "        vertical-align: top;\n",
       "    }\n",
       "\n",
       "    .dataframe thead th {\n",
       "        text-align: right;\n",
       "    }\n",
       "</style>\n",
       "<table border=\"1\" class=\"dataframe\">\n",
       "  <thead>\n",
       "    <tr style=\"text-align: right;\">\n",
       "      <th></th>\n",
       "      <th>bodyId_pre</th>\n",
       "      <th>bodyId_post</th>\n",
       "      <th>roi_pre</th>\n",
       "      <th>roi_post</th>\n",
       "      <th>x_pre</th>\n",
       "      <th>y_pre</th>\n",
       "      <th>z_pre</th>\n",
       "      <th>x_post</th>\n",
       "      <th>y_post</th>\n",
       "      <th>z_post</th>\n",
       "      <th>confidence_pre</th>\n",
       "      <th>confidence_post</th>\n",
       "    </tr>\n",
       "  </thead>\n",
       "  <tbody>\n",
       "    <tr>\n",
       "      <th>0</th>\n",
       "      <td>5813079489</td>\n",
       "      <td>422725634</td>\n",
       "      <td>gL(R)</td>\n",
       "      <td>gL(R)</td>\n",
       "      <td>22281</td>\n",
       "      <td>30706</td>\n",
       "      <td>16846</td>\n",
       "      <td>22299</td>\n",
       "      <td>30727</td>\n",
       "      <td>16849</td>\n",
       "      <td>0.925</td>\n",
       "      <td>0.751526</td>\n",
       "    </tr>\n",
       "    <tr>\n",
       "      <th>1</th>\n",
       "      <td>5813021865</td>\n",
       "      <td>422725634</td>\n",
       "      <td>gL(R)</td>\n",
       "      <td>gL(R)</td>\n",
       "      <td>22681</td>\n",
       "      <td>30683</td>\n",
       "      <td>18199</td>\n",
       "      <td>22664</td>\n",
       "      <td>30667</td>\n",
       "      <td>18231</td>\n",
       "      <td>0.954</td>\n",
       "      <td>0.747030</td>\n",
       "    </tr>\n",
       "    <tr>\n",
       "      <th>2</th>\n",
       "      <td>5812982436</td>\n",
       "      <td>422725634</td>\n",
       "      <td>gL(R)</td>\n",
       "      <td>gL(R)</td>\n",
       "      <td>21414</td>\n",
       "      <td>32163</td>\n",
       "      <td>20162</td>\n",
       "      <td>21389</td>\n",
       "      <td>32154</td>\n",
       "      <td>20154</td>\n",
       "      <td>0.910</td>\n",
       "      <td>0.460867</td>\n",
       "    </tr>\n",
       "    <tr>\n",
       "      <th>3</th>\n",
       "      <td>5812979326</td>\n",
       "      <td>422725634</td>\n",
       "      <td>gL(R)</td>\n",
       "      <td>gL(R)</td>\n",
       "      <td>21305</td>\n",
       "      <td>32296</td>\n",
       "      <td>20222</td>\n",
       "      <td>21289</td>\n",
       "      <td>32288</td>\n",
       "      <td>20217</td>\n",
       "      <td>0.980</td>\n",
       "      <td>0.964410</td>\n",
       "    </tr>\n",
       "    <tr>\n",
       "      <th>4</th>\n",
       "      <td>1224137495</td>\n",
       "      <td>422725634</td>\n",
       "      <td>gL(R)</td>\n",
       "      <td>gL(R)</td>\n",
       "      <td>21984</td>\n",
       "      <td>31049</td>\n",
       "      <td>15885</td>\n",
       "      <td>21984</td>\n",
       "      <td>31049</td>\n",
       "      <td>15869</td>\n",
       "      <td>0.869</td>\n",
       "      <td>0.998963</td>\n",
       "    </tr>\n",
       "  </tbody>\n",
       "</table>\n",
       "</div>"
      ],
      "text/plain": [
       "   bodyId_pre  bodyId_post roi_pre roi_post  x_pre  y_pre  z_pre  x_post  \\\n",
       "0  5813079489    422725634   gL(R)    gL(R)  22281  30706  16846   22299   \n",
       "1  5813021865    422725634   gL(R)    gL(R)  22681  30683  18199   22664   \n",
       "2  5812982436    422725634   gL(R)    gL(R)  21414  32163  20162   21389   \n",
       "3  5812979326    422725634   gL(R)    gL(R)  21305  32296  20222   21289   \n",
       "4  1224137495    422725634   gL(R)    gL(R)  21984  31049  15885   21984   \n",
       "\n",
       "   y_post  z_post  confidence_pre  confidence_post  \n",
       "0   30727   16849           0.925         0.751526  \n",
       "1   30667   18231           0.954         0.747030  \n",
       "2   32154   20154           0.910         0.460867  \n",
       "3   32288   20217           0.980         0.964410  \n",
       "4   31049   15869           0.869         0.998963  "
      ]
     },
     "execution_count": 5,
     "metadata": {},
     "output_type": "execute_result"
    }
   ],
   "source": [
    "kc_syns.head()"
   ]
  },
  {
   "cell_type": "code",
   "execution_count": 12,
   "id": "4fddbe10",
   "metadata": {},
   "outputs": [
    {
     "data": {
      "text/plain": [
       "(119899, 12)"
      ]
     },
     "execution_count": 12,
     "metadata": {},
     "output_type": "execute_result"
    }
   ],
   "source": [
    "# kcs.shape\n",
    "# mbons.shape\n",
    "# dans.shape\n",
    "\n",
    "kc_mbon_synapses.shape"
   ]
  },
  {
   "cell_type": "code",
   "execution_count": 4,
   "id": "0b8eafd2",
   "metadata": {},
   "outputs": [],
   "source": [
    "import pickle\n",
    "\n",
    "syndist_folder = pathlib.Path('/media/mplitt/SSD_storage/fig_scratch/EL_connectomics/syn_distances')\n"
   ]
  },
  {
   "cell_type": "code",
   "execution_count": null,
   "id": "dcff3836",
   "metadata": {},
   "outputs": [],
   "source": [
    "\n",
    "\n",
    "    "
   ]
  },
  {
   "cell_type": "code",
   "execution_count": 5,
   "id": "618625da",
   "metadata": {},
   "outputs": [
    {
     "name": "stdout",
     "output_type": "stream",
     "text": [
      "(116833,)\n"
     ]
    },
    {
     "data": {
      "image/png": "[encoded data removed]",
      "text/plain": [
       "<Figure size 200x400 with 1 Axes>"
      ]
     },
     "metadata": {},
     "output_type": "display_data"
    }
   ],
   "source": [
    "from matplotlib.ticker import (MultipleLocator, AutoMinorLocator)\n",
    "\n",
    "\n",
    "file = syndist_folder / 'kc_syn_distances.pkl'\n",
    "with open(file, 'rb') as f:\n",
    "    distances = pickle.load(f)\n",
    "distances = np.concatenate([d['cable_distance']['dan_post']/1000*8 for d in distances])\n",
    "distances = distances[~np.isnan(distances)]\n",
    "print(distances.shape)\n",
    "kc_df = pd.DataFrame({'cell': ['kc' for k in distances], \n",
    "                   'source': ['dan' for k in distances], \n",
    "                   'distances': distances})\n",
    "\n",
    "kc_df.shape\n",
    "\n",
    "fig, ax = plt.subplots(figsize=[2,4])\n",
    "\n",
    "sns.histplot(data=kc_df, x='distances', hue='source',  fill=True,common_norm=False, ax=ax, cumulative=False,\n",
    "             palette=('green', 'blue'),element='poly', stat='probability') #, cut=0,common_grid=True)\n",
    "\n",
    "ax.set_xlabel('approx. cable distance (microns)')\n",
    "ax.set_xticks([0,4,8,12])\n",
    "ax.xaxis.set_minor_locator(AutoMinorLocator())"
   ]
  },
  {
   "cell_type": "code",
   "execution_count": 11,
   "id": "82860b81",
   "metadata": {},
   "outputs": [],
   "source": [
    "er_types = ('ER4d', 'ER2_a', 'ER2_b', 'ER2_c', 'ER2_d', 'ER3p_a', 'ER3p_b')\n",
    "df = pd.DataFrame({'cell': [], 'source': [], 'distances': []})\n",
    "for type in er_types:\n",
    "    file = syndist_folder / f\"{type}_syn_distances.pkl\"\n",
    "    with open(file, 'rb') as f:\n",
    "        distances = pickle.load(f)\n",
    "\n",
    "    el_dist, exr2_dist = [], []\n",
    "    for nrn in distances:\n",
    "        el_dist.append(nrn['cable_distance']['el_post'])\n",
    "        exr2_dist.append(nrn['cable_distance']['exr2_post'])\n",
    "    el_dist = np.concatenate(el_dist)\n",
    "    # el_dist[np.isnan(el_dist)] = np.nanmax(el_dist + 10000/8)\n",
    "\n",
    "    exr2_dist = np.concatenate(exr2_dist)\n",
    "    # exr2_dist[np.isnan(exr2_dist)] = np.nanmax(exr2_dist+10000/8)\n",
    "    names = ['el' for i in range(el_dist.shape[0])] + ['exr2' for i in range(exr2_dist.shape[0])]\n",
    "    er = ['er' for i in range(len(names))]\n",
    "    _df = pd.DataFrame({ 'cell': er,\n",
    "                    'source': names,\n",
    "                    'distances': np.concatenate((el_dist,exr2_dist))/1000*8})\n",
    "    df = pd.concat((df,_df), ignore_index=True)\n"
   ]
  },
  {
   "cell_type": "code",
   "execution_count": 12,
   "id": "f2691e0e",
   "metadata": {},
   "outputs": [
    {
     "data": {
      "image/png": "[encoded data removed]",
      "text/plain": [
       "<Figure size 200x400 with 1 Axes>"
      ]
     },
     "metadata": {},
     "output_type": "display_data"
    }
   ],
   "source": [
    "from matplotlib.ticker import (MultipleLocator, AutoMinorLocator)\n",
    "\n",
    "fig, ax = plt.subplots(figsize=[2,4])\n",
    "sns.histplot(data=df, x='distances', hue='source',  fill=True,common_norm=False, ax=ax, cumulative=False,\n",
    "            hue_order=('el', 'exr2'), palette=('green', 'blue'),element='poly', stat='probability') #, cut=0,common_grid=True)\n",
    "# ax.set_xlim([0,10])\n",
    "ax.set_xlabel('approx. cable distance (microns)')\n",
    "ax.set_xticks([0,4,8,12])\n",
    "ax.xaxis.set_minor_locator(AutoMinorLocator())\n",
    "\n",
    "ax.spines['top'].set_visible(False)\n",
    "ax.spines['right'].set_visible(False)\n"
   ]
  },
  {
   "cell_type": "code",
   "execution_count": 13,
   "id": "f5ff1de3",
   "metadata": {},
   "outputs": [],
   "source": [
    "comb_df = pd.concat((df, kc_df), ignore_index=True)\n"
   ]
  },
  {
   "cell_type": "code",
   "execution_count": 14,
   "id": "a4bf61b1",
   "metadata": {},
   "outputs": [
    {
     "data": {
      "text/html": [
       "<div>\n",
       "<style scoped>\n",
       "    .dataframe tbody tr th:only-of-type {\n",
       "        vertical-align: middle;\n",
       "    }\n",
       "\n",
       "    .dataframe tbody tr th {\n",
       "        vertical-align: top;\n",
       "    }\n",
       "\n",
       "    .dataframe thead th {\n",
       "        text-align: right;\n",
       "    }\n",
       "</style>\n",
       "<table border=\"1\" class=\"dataframe\">\n",
       "  <thead>\n",
       "    <tr style=\"text-align: right;\">\n",
       "      <th></th>\n",
       "      <th>cell</th>\n",
       "      <th>source</th>\n",
       "      <th>distances</th>\n",
       "    </tr>\n",
       "  </thead>\n",
       "  <tbody>\n",
       "    <tr>\n",
       "      <th>0</th>\n",
       "      <td>er</td>\n",
       "      <td>el</td>\n",
       "      <td>0.898949</td>\n",
       "    </tr>\n",
       "    <tr>\n",
       "      <th>1</th>\n",
       "      <td>er</td>\n",
       "      <td>el</td>\n",
       "      <td>1.853679</td>\n",
       "    </tr>\n",
       "    <tr>\n",
       "      <th>2</th>\n",
       "      <td>er</td>\n",
       "      <td>el</td>\n",
       "      <td>2.006712</td>\n",
       "    </tr>\n",
       "    <tr>\n",
       "      <th>3</th>\n",
       "      <td>er</td>\n",
       "      <td>el</td>\n",
       "      <td>0.995447</td>\n",
       "    </tr>\n",
       "    <tr>\n",
       "      <th>4</th>\n",
       "      <td>er</td>\n",
       "      <td>el</td>\n",
       "      <td>2.229182</td>\n",
       "    </tr>\n",
       "  </tbody>\n",
       "</table>\n",
       "</div>"
      ],
      "text/plain": [
       "  cell source  distances\n",
       "0   er     el   0.898949\n",
       "1   er     el   1.853679\n",
       "2   er     el   2.006712\n",
       "3   er     el   0.995447\n",
       "4   er     el   2.229182"
      ]
     },
     "execution_count": 14,
     "metadata": {},
     "output_type": "execute_result"
    }
   ],
   "source": [
    "comb_df.head()"
   ]
  },
  {
   "cell_type": "code",
   "execution_count": 16,
   "id": "f7fa3c47",
   "metadata": {},
   "outputs": [
    {
     "data": {
      "image/png": "[encoded data removed]",
      "text/plain": [
       "<Figure size 200x400 with 1 Axes>"
      ]
     },
     "metadata": {},
     "output_type": "display_data"
    }
   ],
   "source": [
    "fig, ax = plt.subplots(figsize=[2,4])\n",
    "\n",
    "bins = np.linspace(0, 16, 80)\n",
    "sns.histplot(data=comb_df.loc[comb_df['source'].isin(['el', 'dan'])], x='distances', hue='source',  fill=True,common_norm=False, ax=ax, cumulative=False,\n",
    "            hue_order=('el', 'dan'), palette=('green', 'black'),element='poly', stat='probability',\n",
    "            bins=bins) #, cut=0,common_grid=True)\n",
    "# ax.set_xlim([0,10])\n",
    "ax.set_xlabel('approx. cable distance (microns)')\n",
    "ax.set_xticks([0,4,8,12])\n",
    "ax.xaxis.set_minor_locator(AutoMinorLocator())\n",
    "\n",
    "ax.spines['top'].set_visible(False)\n",
    "ax.spines['right'].set_visible(False)\n",
    "\n",
    "fig.savefig(figfolder / 'kc_v_er2_er3p_er4d_syn_distances.pdf')\n"
   ]
  },
  {
   "cell_type": "code",
   "execution_count": null,
   "id": "8d6d83d0",
   "metadata": {},
   "outputs": [],
   "source": []
  }
 ],
 "metadata": {
  "kernelspec": {
   "display_name": "NeuroModPlasticity",
   "language": "python",
   "name": "python3"
  },
  "language_info": {
   "codemirror_mode": {
    "name": "ipython",
    "version": 3
   },
   "file_extension": ".py",
   "mimetype": "text/x-python",
   "name": "python",
   "nbconvert_exporter": "python",
   "pygments_lexer": "ipython3",
   "version": "3.11.11"
  }
 },
 "nbformat": 4,
 "nbformat_minor": 5
}
