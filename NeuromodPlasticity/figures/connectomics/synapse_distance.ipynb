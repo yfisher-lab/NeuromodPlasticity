{
 "cells": [
  {
   "cell_type": "code",
   "execution_count": 1,
   "id": "6e81dbf1",
   "metadata": {},
   "outputs": [],
   "source": [
    "import numpy as np\n",
    "import pandas as pd\n",
    "import scipy as sp\n",
    "import pathlib\n",
    "\n",
    "import seaborn as sns\n",
    "from matplotlib import pyplot as plt\n",
    "import networkx as nx\n",
    "\n",
    "import navis \n",
    "import navis.interfaces.neuprint as neu\n",
    "import neuprint as neu_orig\n",
    "import NeuromodPlasticity as nmp \n",
    "\n",
    "\n",
    "plt.rcParams['pdf.fonttype']=42\n",
    "\n",
    "%load_ext autoreload\n",
    "%autoreload 2 \n",
    "\n",
    "\n",
    "%matplotlib inline"
   ]
  },
  {
   "cell_type": "code",
   "execution_count": 2,
   "id": "eea17be5",
   "metadata": {},
   "outputs": [],
   "source": [
    "# load eb coords\n",
    "\n"
   ]
  },
  {
   "cell_type": "code",
   "execution_count": null,
   "id": "bfad699f",
   "metadata": {},
   "outputs": [],
   "source": [
    "# load example ER4d, EPG and an EL that connects them\n",
    "\n",
    "neu.fetch_skeleton(with_distances=True)\n"
   ]
  },
  {
   "cell_type": "code",
   "execution_count": null,
   "id": "e8f3d7f6",
   "metadata": {},
   "outputs": [],
   "source": [
    "# get synapses from ER4d to EPG and EL to ER4d\n",
    "\n",
    "# attach synapses to skeleton\n",
    "neu.skeleton.upsample_skeleton\n",
    "neu.skeleton.attach_synapses_to_skeleton\n",
    "    # add rows to to dataframe, make parent node the closest node\n"
   ]
  },
  {
   "cell_type": "code",
   "execution_count": null,
   "id": "603b70c0",
   "metadata": {},
   "outputs": [],
   "source": [
    "# for each ER-EPG synapse, calculate distance to nearest EL-Er synapse\n",
    "neu.skeleton.skeleton_df_to_nx\n",
    "nx.shortest_path_length"
   ]
  },
  {
   "cell_type": "code",
   "execution_count": null,
   "id": "9fb893f2",
   "metadata": {},
   "outputs": [],
   "source": []
  }
 ],
 "metadata": {
  "kernelspec": {
   "display_name": "NeuroModPlasticity",
   "language": "python",
   "name": "python3"
  },
  "language_info": {
   "codemirror_mode": {
    "name": "ipython",
    "version": 3
   },
   "file_extension": ".py",
   "mimetype": "text/x-python",
   "name": "python",
   "nbconvert_exporter": "python",
   "pygments_lexer": "ipython3",
   "version": "3.11.11"
  }
 },
 "nbformat": 4,
 "nbformat_minor": 5
}
