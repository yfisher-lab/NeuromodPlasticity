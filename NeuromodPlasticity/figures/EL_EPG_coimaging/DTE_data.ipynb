{
 "cells": [
  {
   "cell_type": "code",
   "execution_count": null,
   "id": "01753022",
   "metadata": {},
   "outputs": [],
   "source": [
    "import dans data"
   ]
  }
 ],
 "metadata": {
  "language_info": {
   "name": "python"
  }
 },
 "nbformat": 4,
 "nbformat_minor": 5
}
