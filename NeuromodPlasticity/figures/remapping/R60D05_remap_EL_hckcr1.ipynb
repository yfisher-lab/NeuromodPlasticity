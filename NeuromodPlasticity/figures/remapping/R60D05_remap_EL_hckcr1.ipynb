{
 "cells": [
  {
   "cell_type": "code",
   "execution_count": null,
   "id": "b6862bb7-6bc4-493d-900f-b67ca7776dcc",
   "metadata": {},
   "outputs": [],
   "source": []
  },
  {
   "cell_type": "code",
   "execution_count": null,
   "id": "ae9b86bf-87c6-4ad5-86d6-bc12c28c1b76",
   "metadata": {},
   "outputs": [],
   "source": [
    "# for remap sessions\n",
    "\n",
    "# align to start of remapping and average across sessions\n",
    "\n",
    "# nan laser blanking period (1800 ms)\n",
    "    # find opto on edge, from that point + 1800ms + 1 frame"
   ]
  },
  {
   "cell_type": "code",
   "execution_count": null,
   "id": "046f7af7-3cbf-4f32-aa57-6bf14c1d2c29",
   "metadata": {},
   "outputs": [],
   "source": []
  }
 ],
 "metadata": {
  "kernelspec": {
   "display_name": "Python 3 (ipykernel)",
   "language": "python",
   "name": "python3"
  },
  "language_info": {
   "codemirror_mode": {
    "name": "ipython",
    "version": 3
   },
   "file_extension": ".py",
   "mimetype": "text/x-python",
   "name": "python",
   "nbconvert_exporter": "python",
   "pygments_lexer": "ipython3",
   "version": "3.10.8"
  }
 },
 "nbformat": 4,
 "nbformat_minor": 5
}
