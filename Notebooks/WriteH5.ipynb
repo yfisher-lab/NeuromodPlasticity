{
 "cells": [
  {
   "cell_type": "code",
   "execution_count": 1,
   "id": "87db203c-6ec6-44e9-b28c-4d12e9bf96dc",
   "metadata": {
    "tags": []
   },
   "outputs": [],
   "source": [
    "import pathlib\n",
    "import numpy as np\n",
    "import scipy as sp\n",
    "from matplotlib import pyplot as plt\n",
    "\n",
    "\n",
    "import SessionTools.two_photon as st2p\n",
    "\n",
    "\n",
    "%load_ext autoreload\n",
    "%autoreload 2 \n",
    "\n",
    "%matplotlib inline"
   ]
  },
  {
   "cell_type": "code",
   "execution_count": 26,
   "id": "629df0d4-16cd-4dc7-af2b-30c345f7be32",
   "metadata": {
    "tags": []
   },
   "outputs": [],
   "source": [
    "session_info = {'date': \"20_01_2024\",\n",
    "                'genotype_dir': 'ER4d_sytjGCaMP7f_attp2',\n",
    "                'fly': 'fly3',\n",
    "                'session': 'dark-003',\n",
    "                'full_genotype': '+/w-; +/ER4d-AD; UAS-sytjGCaMP7f^{attp2}/ER4d-DBD (SS00238)',\n",
    "                'ecl date': '1/13-14/2024',\n",
    "                'notes':''}\n",
    "\n",
    "bruker_folder = pathlib.PurePath('/media/mplitt/SSD_storage/2PData')\n",
    "fictrac_folder = pathlib.PurePath('/media/mplitt/SSD_storage/fictrac_folder')\n",
    "                            \n",
    "\n",
    "pp = st2p.preprocessing.EBImagingSession(session_info = session_info, \n",
    "                                         bruker_base_dir = bruker_folder,\n",
    "                                         fictrac_base_dir = fictrac_folder)"
   ]
  },
  {
   "cell_type": "code",
   "execution_count": 27,
   "id": "a69a00b3-191f-4fd0-b092-76eda1a5d0ab",
   "metadata": {
    "tags": []
   },
   "outputs": [
    {
     "name": "stdout",
     "output_type": "stream",
     "text": [
      "(233, 290)\n",
      "[########################################] | 100% Completed | 31.23 s\n"
     ]
    }
   ],
   "source": [
    "pp.extract_metadata()\n",
    "pp.bruker_to_h5(first_chan=2, overwrite=False)\n",
    "pp.save()\n",
    "# data_corr, shifts, error, diffphase= pp.motion_correct(pp.data)\n"
   ]
  },
  {
   "cell_type": "code",
   "execution_count": null,
   "id": "5de40bf8-a940-45ba-ba9d-b530d04d2c1d",
   "metadata": {},
   "outputs": [],
   "source": []
  }
 ],
 "metadata": {
  "kernelspec": {
   "display_name": "Python 3 (ipykernel)",
   "language": "python",
   "name": "python3"
  },
  "language_info": {
   "codemirror_mode": {
    "name": "ipython",
    "version": 3
   },
   "file_extension": ".py",
   "mimetype": "text/x-python",
   "name": "python",
   "nbconvert_exporter": "python",
   "pygments_lexer": "ipython3",
   "version": "3.10.8"
  }
 },
 "nbformat": 4,
 "nbformat_minor": 5
}
