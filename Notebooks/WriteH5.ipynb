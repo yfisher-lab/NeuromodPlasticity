{
 "cells": [
  {
   "cell_type": "code",
   "execution_count": 1,
   "id": "87db203c-6ec6-44e9-b28c-4d12e9bf96dc",
   "metadata": {
    "tags": []
   },
   "outputs": [],
   "source": [
    "import pathlib\n",
    "import numpy as np\n",
    "import scipy as sp\n",
    "from matplotlib import pyplot as plt\n",
    "\n",
    "\n",
    "import SessionTools.two_photon as st2p\n",
    "\n",
    "\n",
    "%load_ext autoreload\n",
    "%autoreload 2 \n",
    "\n",
    "%matplotlib inline"
   ]
  },
  {
   "cell_type": "code",
   "execution_count": 8,
   "id": "629df0d4-16cd-4dc7-af2b-30c345f7be32",
   "metadata": {
    "tags": []
   },
   "outputs": [],
   "source": [
    "session_info = {'date': '26_05_2025',\n",
    "                'genotype_dir': 'R18B05LexA_CsChrimsontdT_R60D05Gal4_jGCaMP7f_hcKCR1/exp',\n",
    "                'fly': 'fly4',\n",
    "                'session': 'post_0deg-004',\n",
    "                'fictrac_scan_num': 4,\n",
    "                'fictrac_dat_file' : 'fictrac-20250526_092120.dat',\n",
    "                'full_genotype': '+; R18B05LexA/UAS-jGCaMP7f;  R60D05Gal4/LexOpCsChrimson::tdT, UAS-hcKCR1::V5',\n",
    "                'ecl date': '17-19/05/2025',\n",
    "                'notes': ''}\n",
    "\n",
    "\n",
    "session_info['fictrac_dir']= f\"/media/mplitt/SSD_storage/fictrac_folder/{session_info['genotype_dir']}/{session_info['date']}/{session_info['fly']}\"\n",
    "bruker_folder = pathlib.PurePath('/media/mplitt/SSD_storage/2PData')\n",
    "# fictrac_folder = pathlib.PurePath('/media/mplitt/SSD_storage/fictrac_folder')\n",
    "\n",
    "pp = st2p.preprocessing.EBImagingSession(session_info = session_info, \n",
    "                                         bruker_base_dir = bruker_folder,\n",
    "                                         fictrac_dir = session_info['fictrac_dir'],\n",
    "                                         fictrac_dat_file = None,\n",
    "                                         fictrac_scan_num = None)"
   ]
  },
  {
   "cell_type": "code",
   "execution_count": 9,
   "id": "a69a00b3-191f-4fd0-b092-76eda1a5d0ab",
   "metadata": {
    "tags": []
   },
   "outputs": [
    {
     "name": "stdout",
     "output_type": "stream",
     "text": [
      "(256, 314)\n",
      "[########################################] | 100% Completed | 44.75 s\n"
     ]
    }
   ],
   "source": [
    "pp.extract_metadata()\n",
    "pp.bruker_to_h5(first_chan=1, overwrite=True)\n",
    "# pp.save()\n",
    "# data_corr, shifts, error, diffphase= pp.motion_correct(pp.data)\n"
   ]
  },
  {
   "cell_type": "code",
   "execution_count": null,
   "id": "a3042de1-417d-439d-b9ec-c57948bda109",
   "metadata": {},
   "outputs": [],
   "source": [
    "## "
   ]
  },
  {
   "cell_type": "code",
   "execution_count": null,
   "id": "0fa125af-9af8-4f10-9253-228826feccde",
   "metadata": {},
   "outputs": [],
   "source": []
  }
 ],
 "metadata": {
  "kernelspec": {
   "display_name": "NeuroModPlasticity",
   "language": "python",
   "name": "python3"
  },
  "language_info": {
   "codemirror_mode": {
    "name": "ipython",
    "version": 3
   },
   "file_extension": ".py",
   "mimetype": "text/x-python",
   "name": "python",
   "nbconvert_exporter": "python",
   "pygments_lexer": "ipython3",
   "version": "3.11.11"
  }
 },
 "nbformat": 4,
 "nbformat_minor": 5
}
