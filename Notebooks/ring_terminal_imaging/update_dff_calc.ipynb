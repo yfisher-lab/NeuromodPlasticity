{
 "cells": [
  {
   "cell_type": "code",
   "execution_count": 1,
   "id": "bcc88d13-15ca-45dc-b2ce-36aff7dba480",
   "metadata": {
    "tags": []
   },
   "outputs": [],
   "source": [
    "import pathlib\n",
    "import numpy as np\n",
    "import scipy as sp\n",
    "import pandas as pd\n",
    "from matplotlib import pyplot as plt\n",
    "\n",
    "\n",
    "import SessionTools.two_photon as st2p\n",
    "\n",
    "\n",
    "%load_ext autoreload\n",
    "%autoreload 2 \n",
    "\n",
    "\n",
    "%matplotlib inline"
   ]
  },
  {
   "cell_type": "code",
   "execution_count": 2,
   "id": "9527f66a-d401-4b47-b36e-7110a2ff8141",
   "metadata": {
    "tags": []
   },
   "outputs": [],
   "source": [
    "basedir = pathlib.Path('/media/mplitt/SSD_storage/2P_scratch/ER4d_sytjGCaMP7f_attp2')"
   ]
  },
  {
   "cell_type": "code",
   "execution_count": 3,
   "id": "006ec917-3bdc-4146-af51-e2cb90fecd0a",
   "metadata": {
    "tags": []
   },
   "outputs": [],
   "source": [
    "sess_df = pd.read_csv(basedir / 'sessions.csv')"
   ]
  },
  {
   "cell_type": "code",
   "execution_count": 4,
   "id": "66f22984-1bd1-4520-bd31-0df0d0c154d0",
   "metadata": {
    "tags": []
   },
   "outputs": [
    {
     "data": {
      "text/html": [
       "<div>\n",
       "<style scoped>\n",
       "    .dataframe tbody tr th:only-of-type {\n",
       "        vertical-align: middle;\n",
       "    }\n",
       "\n",
       "    .dataframe tbody tr th {\n",
       "        vertical-align: top;\n",
       "    }\n",
       "\n",
       "    .dataframe thead th {\n",
       "        text-align: right;\n",
       "    }\n",
       "</style>\n",
       "<table border=\"1\" class=\"dataframe\">\n",
       "  <thead>\n",
       "    <tr style=\"text-align: right;\">\n",
       "      <th></th>\n",
       "      <th>date</th>\n",
       "      <th>fly</th>\n",
       "      <th>sess</th>\n",
       "      <th>closed_loop</th>\n",
       "      <th>usable</th>\n",
       "    </tr>\n",
       "  </thead>\n",
       "  <tbody>\n",
       "    <tr>\n",
       "      <th>0</th>\n",
       "      <td>15_01_2024</td>\n",
       "      <td>fly1</td>\n",
       "      <td>closed_loop-000</td>\n",
       "      <td>1</td>\n",
       "      <td>1</td>\n",
       "    </tr>\n",
       "    <tr>\n",
       "      <th>1</th>\n",
       "      <td>15_01_2024</td>\n",
       "      <td>fly1</td>\n",
       "      <td>closed_loop-002</td>\n",
       "      <td>1</td>\n",
       "      <td>1</td>\n",
       "    </tr>\n",
       "    <tr>\n",
       "      <th>2</th>\n",
       "      <td>15_01_2024</td>\n",
       "      <td>fly1</td>\n",
       "      <td>dark-001</td>\n",
       "      <td>0</td>\n",
       "      <td>0</td>\n",
       "    </tr>\n",
       "    <tr>\n",
       "      <th>3</th>\n",
       "      <td>15_01_2024</td>\n",
       "      <td>fly1</td>\n",
       "      <td>dark-003</td>\n",
       "      <td>0</td>\n",
       "      <td>1</td>\n",
       "    </tr>\n",
       "    <tr>\n",
       "      <th>4</th>\n",
       "      <td>15_01_2024</td>\n",
       "      <td>fly2</td>\n",
       "      <td>closed_loop-000</td>\n",
       "      <td>1</td>\n",
       "      <td>1</td>\n",
       "    </tr>\n",
       "    <tr>\n",
       "      <th>...</th>\n",
       "      <td>...</td>\n",
       "      <td>...</td>\n",
       "      <td>...</td>\n",
       "      <td>...</td>\n",
       "      <td>...</td>\n",
       "    </tr>\n",
       "    <tr>\n",
       "      <th>60</th>\n",
       "      <td>20_01_2024</td>\n",
       "      <td>fly2</td>\n",
       "      <td>dark-003</td>\n",
       "      <td>0</td>\n",
       "      <td>1</td>\n",
       "    </tr>\n",
       "    <tr>\n",
       "      <th>61</th>\n",
       "      <td>20_01_2024</td>\n",
       "      <td>fly3</td>\n",
       "      <td>closed_loop-000</td>\n",
       "      <td>1</td>\n",
       "      <td>0</td>\n",
       "    </tr>\n",
       "    <tr>\n",
       "      <th>62</th>\n",
       "      <td>20_01_2024</td>\n",
       "      <td>fly3</td>\n",
       "      <td>closed_loop-002</td>\n",
       "      <td>1</td>\n",
       "      <td>1</td>\n",
       "    </tr>\n",
       "    <tr>\n",
       "      <th>63</th>\n",
       "      <td>20_01_2024</td>\n",
       "      <td>fly3</td>\n",
       "      <td>dark-001</td>\n",
       "      <td>0</td>\n",
       "      <td>1</td>\n",
       "    </tr>\n",
       "    <tr>\n",
       "      <th>64</th>\n",
       "      <td>20_01_2024</td>\n",
       "      <td>fly3</td>\n",
       "      <td>dark-003</td>\n",
       "      <td>0</td>\n",
       "      <td>1</td>\n",
       "    </tr>\n",
       "  </tbody>\n",
       "</table>\n",
       "<p>65 rows × 5 columns</p>\n",
       "</div>"
      ],
      "text/plain": [
       "          date   fly             sess  closed_loop  usable\n",
       "0   15_01_2024  fly1  closed_loop-000            1       1\n",
       "1   15_01_2024  fly1  closed_loop-002            1       1\n",
       "2   15_01_2024  fly1         dark-001            0       0\n",
       "3   15_01_2024  fly1         dark-003            0       1\n",
       "4   15_01_2024  fly2  closed_loop-000            1       1\n",
       "..         ...   ...              ...          ...     ...\n",
       "60  20_01_2024  fly2         dark-003            0       1\n",
       "61  20_01_2024  fly3  closed_loop-000            1       0\n",
       "62  20_01_2024  fly3  closed_loop-002            1       1\n",
       "63  20_01_2024  fly3         dark-001            0       1\n",
       "64  20_01_2024  fly3         dark-003            0       1\n",
       "\n",
       "[65 rows x 5 columns]"
      ]
     },
     "execution_count": 4,
     "metadata": {},
     "output_type": "execute_result"
    }
   ],
   "source": [
    "sess_df"
   ]
  },
  {
   "cell_type": "code",
   "execution_count": 6,
   "id": "93bc66f3-1702-4d97-81f9-7806a9d18e14",
   "metadata": {
    "tags": []
   },
   "outputs": [],
   "source": [
    "for ind, row in sess_df.iterrows():\n",
    "    # print(row['date'])\n",
    "    # if row['date']=='20_01_2024':\n",
    "    outdir = pathlib.PurePath( basedir / row['date'] / row['fly'] / row['sess'] / 'preprocess.pkl')\n",
    "    pp = st2p.preprocessing.EBImagingSession.from_file(outdir)\n",
    "    pp.extract_timeseries(max_proj=False)\n",
    "    y = pp.calculate_zscored_F('rois', exp_detrend=True,zscore=False)\n",
    "    pp.save()"
   ]
  },
  {
   "cell_type": "code",
   "execution_count": 7,
   "id": "8afbdabb-a2b2-4bc3-a36d-85105e4a27ee",
   "metadata": {},
   "outputs": [
    {
     "name": "stdout",
     "output_type": "stream",
     "text": [
      "done\n"
     ]
    }
   ],
   "source": [
    "print('done')"
   ]
  },
  {
   "cell_type": "code",
   "execution_count": null,
   "id": "e88dc7e1-9d1d-4403-989d-de9e798b6d6c",
   "metadata": {},
   "outputs": [],
   "source": []
  }
 ],
 "metadata": {
  "kernelspec": {
   "display_name": "Python 3 (ipykernel)",
   "language": "python",
   "name": "python3"
  },
  "language_info": {
   "codemirror_mode": {
    "name": "ipython",
    "version": 3
   },
   "file_extension": ".py",
   "mimetype": "text/x-python",
   "name": "python",
   "nbconvert_exporter": "python",
   "pygments_lexer": "ipython3",
   "version": "3.10.8"
  }
 },
 "nbformat": 4,
 "nbformat_minor": 5
}
