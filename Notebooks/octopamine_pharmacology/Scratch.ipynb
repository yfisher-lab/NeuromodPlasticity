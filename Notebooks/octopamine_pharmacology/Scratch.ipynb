{
 "cells": [
  {
   "cell_type": "code",
   "execution_count": 24,
   "id": "1f276d86-16a7-460e-a671-247ed8dfad46",
   "metadata": {
    "tags": []
   },
   "outputs": [
    {
     "name": "stdout",
     "output_type": "stream",
     "text": [
      "The autoreload extension is already loaded. To reload it, use:\n",
      "  %reload_ext autoreload\n"
     ]
    }
   ],
   "source": [
    "import pathlib\n",
    "import numpy as np\n",
    "import scipy as sp\n",
    "from matplotlib import pyplot as plt\n",
    "from glob import glob\n",
    "import pandas as pd\n",
    "\n",
    "\n",
    "import SessionTools.two_photon as st2p\n",
    "\n",
    "\n",
    "%load_ext autoreload\n",
    "%autoreload 2 \n",
    "\n",
    "%matplotlib inline"
   ]
  },
  {
   "cell_type": "code",
   "execution_count": 8,
   "id": "71d136e3-00aa-4ba3-b96e-6a5439b40775",
   "metadata": {
    "tags": []
   },
   "outputs": [],
   "source": [
    "base_dir = pathlib.PurePath('/media/mplitt/SSD_storage/2P_scratch/EPG_jGCaMP7b_VK05/07_02_2024/')"
   ]
  },
  {
   "cell_type": "code",
   "execution_count": 9,
   "id": "ba6eaa74-d3a0-4adc-b193-cbc0fc630f54",
   "metadata": {
    "tags": []
   },
   "outputs": [
    {
     "name": "stdout",
     "output_type": "stream",
     "text": [
      "['fly1', 'fly2', 'fly3', 'fly4']\n"
     ]
    }
   ],
   "source": [
    "flies = [f'fly{i}' for i in range(1,5)]\n",
    "print(flies)\n"
   ]
  },
  {
   "cell_type": "code",
   "execution_count": 26,
   "id": "c59045d9-0708-48a9-9934-400fd507a58f",
   "metadata": {
    "tags": []
   },
   "outputs": [],
   "source": [
    "\n",
    "def calc_pva(y, pp):\n",
    "    n_rois = y.shape[1]\n",
    "    x_f,y_f = st2p.utilities.pol2cart(y[0,:,:],np.linspace(-np.pi,np.pi,num=n_rois)[:,np.newaxis])\n",
    "    rho,phi = st2p.utilities.cart2pol(x_f.mean(axis=0), y_f.mean(axis=0))\n",
    "    # print(rho.shape, phi.shape)\n",
    "\n",
    "    heading = -1* pp.voltage_recording_aligned[' Heading'].to_numpy()\n",
    "\n",
    "    _,offset = st2p.utilities.cart2pol(*st2p.utilities.pol2cart(np.ones(heading.shape),phi-heading))\n",
    "    \n",
    "    return phi, offset, heading"
   ]
  },
  {
   "cell_type": "code",
   "execution_count": 39,
   "id": "fcdd7e4a-01d6-479d-9359-f7ad39acc874",
   "metadata": {
    "tags": []
   },
   "outputs": [
    {
     "name": "stdout",
     "output_type": "stream",
     "text": [
      "0.6395155581303984\n",
      "0.4823356846331174\n",
      "0.6088269142752388\n",
      "0.5467595241963509\n",
      "0.47727259746449724\n",
      "0.7803528873792502\n",
      "0.8011015395707523\n",
      "0.6363518413220792\n",
      "0.744341452340195\n"
     ]
    }
   ],
   "source": [
    "data = {'fly':[], 'closed_loop':[], 'drug': [],  'circvar':[], 'num':[]}\n",
    "\n",
    "for fly in flies:\n",
    "    workdir = base_dir / fly\n",
    "\n",
    "    cl_sessions = glob(f'{workdir}/*closed_loop-*')\n",
    "    dark_sessions = glob(f'{workdir}/*dark*')\n",
    "\n",
    "    for i, cl_sess in enumerate(cl_sessions):\n",
    "        \n",
    "        if 'mianserin' in cl_sess:\n",
    "            drug=True\n",
    "        else:\n",
    "            drug = False\n",
    "            \n",
    "        pkldir = pathlib.Path(cl_sess) / 'preprocess.pkl'\n",
    "        pp = st2p.preprocessing.EBImagingSession.from_file(pkldir)\n",
    "        y = pp.timeseries['rois_z']\n",
    "        phi, offset, heading = calc_pva(y, pp)\n",
    "        data['fly'].append(fly)\n",
    "        data['closed_loop'].append(True)\n",
    "        data['drug'].append(drug)\n",
    "        data['num'].append(i)\n",
    "        data['circvar'].append(sp.stats.circvar(offset))\n",
    "        \n",
    "        print(sp.stats.circvar(offset))\n",
    "        \n",
    "        \n",
    "    for i, d_sess in enumerate(dark_sessions):\n",
    "        pkldir = pathlib.Path(d_sess) / 'preprocess.pkl'\n",
    "        pp = st2p.preprocessing.EBImagingSession.from_file(pkldir)\n",
    "        y = pp.timeseries['rois_z']\n",
    "        phi, offset, heading = calc_pva(y, pp)\n",
    "        \n",
    "        data['fly'].append(fly)\n",
    "        data['closed_loop'].append(False)\n",
    "        data['drug'].append(drug)\n",
    "        data['num'].append(i)\n",
    "        data['circvar'].append(sp.stats.circvar(offset))\n",
    "\n",
    "data = pd.DataFrame.from_dict(data)"
   ]
  },
  {
   "cell_type": "code",
   "execution_count": 45,
   "id": "53ecf8dc-8b22-4ebe-af4e-ae5e78d463ac",
   "metadata": {
    "tags": []
   },
   "outputs": [
    {
     "name": "stdout",
     "output_type": "stream",
     "text": [
      "0    0.639516\n",
      "1    0.482336\n",
      "2    0.608827\n",
      "5    0.546760\n",
      "6    0.477273\n",
      "Name: circvar, dtype: float64\n",
      "0.5509420557399205\n",
      "9     0.780353\n",
      "10    0.801102\n",
      "13    0.636352\n",
      "14    0.744341\n",
      "Name: circvar, dtype: float64\n",
      "0.7405369301530691\n",
      "3    0.813485\n",
      "4    0.896520\n",
      "7    0.877557\n",
      "8    0.811006\n",
      "Name: circvar, dtype: float64\n",
      "0.8496419241742976\n",
      "11    0.792025\n",
      "12    0.928825\n",
      "15    0.919198\n",
      "16    0.776347\n",
      "Name: circvar, dtype: float64\n",
      "0.8540986646200603\n"
     ]
    },
    {
     "data": {
      "text/plain": [
       "<matplotlib.collections.PathCollection at 0x7f6a7a114be0>"
      ]
     },
     "execution_count": 45,
     "metadata": {},
     "output_type": "execute_result"
    },
    {
     "data": {
      "image/png": "[encoded data removed]",
      "text/plain": [
       "<Figure size 640x480 with 1 Axes>"
      ]
     },
     "metadata": {},
     "output_type": "display_data"
    }
   ],
   "source": [
    "fig, ax = plt.subplots()\n",
    "rng = np.random.default_rng()\n",
    "mask = (data['drug']==False)*(data['closed_loop']==True)\n",
    "_d = data.loc[mask]\n",
    "\n",
    "print(_d['circvar'])\n",
    "print(_d['circvar'].mean())\n",
    "ax.scatter(0+.3*rng.random(size=(_d.shape[0],)), _d['circvar'], color='black')\n",
    "\n",
    "mask = (data['drug']==True)*(data['closed_loop']==True)\n",
    "_d = data.loc[mask]\n",
    "\n",
    "print(_d['circvar'])\n",
    "print(_d['circvar'].mean())\n",
    "ax.scatter(1+.3*rng.random(size=(_d.shape[0],)), _d['circvar'], color='red')\n",
    "\n",
    "\n",
    "mask = (data['drug']==False)*(data['closed_loop']==False)\n",
    "_d = data.loc[mask]\n",
    "\n",
    "print(_d['circvar'])\n",
    "print(_d['circvar'].mean())\n",
    "ax.scatter(2+.3*rng.random(size=(_d.shape[0],)), _d['circvar'], color='black')\n",
    "\n",
    "mask = (data['drug']==True)*(data['closed_loop']==False)\n",
    "_d = data.loc[mask]\n",
    "\n",
    "print(_d['circvar'])\n",
    "print(_d['circvar'].mean())\n",
    "ax.scatter(3+.3*rng.random(size=(_d.shape[0],)), _d['circvar'], color='red')"
   ]
  },
  {
   "cell_type": "code",
   "execution_count": null,
   "id": "6556b892-6e95-413a-ad54-bed104268a40",
   "metadata": {},
   "outputs": [],
   "source": []
  }
 ],
 "metadata": {
  "kernelspec": {
   "display_name": "Python 3 (ipykernel)",
   "language": "python",
   "name": "python3"
  },
  "language_info": {
   "codemirror_mode": {
    "name": "ipython",
    "version": 3
   },
   "file_extension": ".py",
   "mimetype": "text/x-python",
   "name": "python",
   "nbconvert_exporter": "python",
   "pygments_lexer": "ipython3",
   "version": "3.10.8"
  }
 },
 "nbformat": 4,
 "nbformat_minor": 5
}
