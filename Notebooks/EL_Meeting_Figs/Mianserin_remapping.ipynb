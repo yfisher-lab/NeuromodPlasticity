{
 "cells": [
  {
   "cell_type": "code",
   "execution_count": 1,
   "id": "3f047023-a127-45ef-8f32-cec1022eda6f",
   "metadata": {
    "tags": []
   },
   "outputs": [],
   "source": [
    "import pathlib\n",
    "import os\n",
    "from glob import glob\n",
    "\n",
    "import h5py\n",
    "import pandas as pd\n",
    "import json\n",
    "import numpy as np\n",
    "import scipy as sp\n",
    "from matplotlib import pyplot as plt\n",
    "import dask.array as da\n",
    "import dask.dataframe as dd\n",
    "import skimage \n",
    "import cloudpickle\n",
    "\n",
    "import SessionTools.two_photon as st2p\n",
    "# from SessionTools.two_photon import utilities\n",
    "from SessionTools.utilities import *\n",
    "\n",
    "\n",
    "import matplotlib\n",
    "matplotlib.rcParams['pdf.fonttype'] = 42\n",
    "matplotlib.rcParams['font.size'] = 18\n",
    "matplotlib.rcParams['pdf.use14corefonts']=True\n",
    "# matplotlib.rc('font', family='arial')\n",
    "\n",
    "\n",
    "\n",
    "%load_ext autoreload\n",
    "%autoreload 2 \n",
    "\n",
    "%matplotlib inline"
   ]
  },
  {
   "cell_type": "code",
   "execution_count": null,
   "id": "b8a096a7-2834-41a2-96e9-72423dbf00d7",
   "metadata": {},
   "outputs": [],
   "source": [
    "ctrl_dates = ['13_08_2023', # fly 2\n",
    "              #'02_08_2023', # fly 4\n",
    "              '25_07_2023', # fly 1\n",
    "              '07_07_2023', # fly 2\n",
    "              '06_07_2023', # fly 1\n",
    "              '06_07_2023', # fly 2\n",
    "             ]\n",
    "              # '30_06_2023',  # fly 2\n",
    "              # '27_06_2023', # fly 2 \n",
    "drug_dates = ['13_08_2023', # fly 3 10 microM mianserin\n",
    "              '13_08_2023', # fly 4 10 microM mianserin\n",
    "              '25_07_2023', # fly 2 50 microM mianserin\n",
    "              '25_07_2023', # fly 3 50 microM mianserin\n",
    "              '07_07_2023', # fly 3 100 microM mianserin 100 microM chlorpromazine\n",
    "              '07_07_2023', # fly 4 100 microM mianserin 100 microM chlorpromazine\n",
    "              '06_07_2023', # fly 3 100 microM mianserin 100 microM chlorpromazine\n",
    "              \n",
    "            \n",
    " \n",
    "ctrl_names = [\n",
    "         ]\n",
    "\n",
    "drug_dates = []\n",
    "\n",
    "drug_names = []\n",
    "\n",
    "data_dicts = []"
   ]
  }
 ],
 "metadata": {
  "kernelspec": {
   "display_name": "Python 3 (ipykernel)",
   "language": "python",
   "name": "python3"
  },
  "language_info": {
   "codemirror_mode": {
    "name": "ipython",
    "version": 3
   },
   "file_extension": ".py",
   "mimetype": "text/x-python",
   "name": "python",
   "nbconvert_exporter": "python",
   "pygments_lexer": "ipython3",
   "version": "3.10.8"
  }
 },
 "nbformat": 4,
 "nbformat_minor": 5
}
