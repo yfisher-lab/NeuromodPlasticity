{
 "cells": [
  {
   "cell_type": "code",
   "execution_count": 1,
   "id": "995fefb7-6242-4b78-a450-37ae8a01a419",
   "metadata": {
    "tags": []
   },
   "outputs": [],
   "source": [
    "import pathlib\n",
    "import os\n",
    "\n",
    "import h5py\n",
    "import pandas as pd\n",
    "import json\n",
    "import numpy as np\n",
    "import scipy as sp\n",
    "from matplotlib import pyplot as plt\n",
    "import dask.array as da\n",
    "import dask.dataframe as dd\n",
    "import skimage \n",
    "\n",
    "\n",
    "import SessionTools.two_photon as st2p\n",
    "\n",
    "\n",
    "%load_ext autoreload\n",
    "%autoreload 2 \n",
    "\n",
    "%matplotlib inline"
   ]
  },
  {
   "cell_type": "code",
   "execution_count": 19,
   "id": "6453706b-f0bd-45e3-838f-0ef286b17b2e",
   "metadata": {
    "tags": []
   },
   "outputs": [],
   "source": [
    "date = \"18_04_2023\"\n",
    "fly = \"R60D05_jGCaMP7f_tdc2lexa_CsChrimsontdT_fly1\"\n",
    "session = 'ZSeries-04182023-1105-218'\n",
    "basedir = pathlib.PurePath(f'/media/mplitt/SSD_storage/2PData/{date}/{fly}/{session}/')\n",
    "basename_input = pathlib.Path(basedir.joinpath(session))\n",
    "metadata = st2p.preprocessing.bruker_metadata.read(basename_input)\n",
    "\n",
    "metadata['size']['z_planes']=metadata['layout']['frames_per_sequence']"
   ]
  },
  {
   "cell_type": "code",
   "execution_count": 20,
   "id": "434340e6-27c5-4079-9d29-db450d633992",
   "metadata": {
    "tags": []
   },
   "outputs": [
    {
     "name": "stdout",
     "output_type": "stream",
     "text": [
      "(512, 512)\n",
      "[########################################] | 100% Completed | 203.65 ms\n"
     ]
    }
   ],
   "source": [
    "h5name = f'/media/mplitt/SSD_storage/2P_scratch/{date}/{fly}/{session}/data.h5'\n",
    "if not os.path.exists(h5name):\n",
    "    tiff_data = st2p.preprocessing.tiff_tools.read(basename_input, \n",
    "                                            metadata['size'],metadata['layout'], first_chan=1)\n",
    "    st2p.preprocessing.tiff_tools.convert_to_hdf5(tiff_data,h5name, overwrite=True)"
   ]
  },
  {
   "cell_type": "code",
   "execution_count": 21,
   "id": "eeefd23c-a7b1-41a1-ba37-80ecde8d5fd9",
   "metadata": {
    "tags": []
   },
   "outputs": [],
   "source": [
    "f = h5py.File(h5name)\n",
    "data = f['/data'][:]"
   ]
  },
  {
   "cell_type": "code",
   "execution_count": 22,
   "id": "b6417c9c-6983-423c-b90f-9d6a33eb5e08",
   "metadata": {
    "tags": []
   },
   "outputs": [
    {
     "data": {
      "text/plain": [
       "(2, 1, 36, 512, 512)"
      ]
     },
     "execution_count": 22,
     "metadata": {},
     "output_type": "execute_result"
    }
   ],
   "source": [
    "data.shape"
   ]
  },
  {
   "cell_type": "code",
   "execution_count": 23,
   "id": "e67080a6-3d66-4a86-a626-d2cf863f10d1",
   "metadata": {
    "tags": []
   },
   "outputs": [],
   "source": [
    "data = np.squeeze(data)\n"
   ]
  },
  {
   "cell_type": "code",
   "execution_count": 24,
   "id": "d50b6562-b15e-4b60-b2df-7adc372e7b2b",
   "metadata": {
    "tags": []
   },
   "outputs": [
    {
     "data": {
      "text/plain": [
       "(2, 36, 512, 512)"
      ]
     },
     "execution_count": 24,
     "metadata": {},
     "output_type": "execute_result"
    }
   ],
   "source": [
    "data.shape"
   ]
  },
  {
   "cell_type": "code",
   "execution_count": 25,
   "id": "c5f7dc76-a1f6-4ab2-9d8b-01caf1ff5bdc",
   "metadata": {
    "tags": []
   },
   "outputs": [
    {
     "data": {
      "text/plain": [
       "[<Image layer 'Image [1]' at 0x7fc7b04f0250>]"
      ]
     },
     "execution_count": 25,
     "metadata": {},
     "output_type": "execute_result"
    }
   ],
   "source": [
    "import napari\n",
    "nap = napari.view_image(data[0:1,:,:,:], channel_axis=0)\n",
    "nap.add_image(data[1:,:,:,:], channel_axis=0)\n"
   ]
  },
  {
   "cell_type": "code",
   "execution_count": null,
   "id": "decf135f-8fab-4d0a-b3a9-dc73c96f3511",
   "metadata": {},
   "outputs": [],
   "source": []
  }
 ],
 "metadata": {
  "kernelspec": {
   "display_name": "Python 3 (ipykernel)",
   "language": "python",
   "name": "python3"
  },
  "language_info": {
   "codemirror_mode": {
    "name": "ipython",
    "version": 3
   },
   "file_extension": ".py",
   "mimetype": "text/x-python",
   "name": "python",
   "nbconvert_exporter": "python",
   "pygments_lexer": "ipython3",
   "version": "3.10.8"
  }
 },
 "nbformat": 4,
 "nbformat_minor": 5
}
