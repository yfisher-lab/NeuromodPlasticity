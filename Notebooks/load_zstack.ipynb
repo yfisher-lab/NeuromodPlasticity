{
 "cells": [
  {
   "cell_type": "code",
   "execution_count": 1,
   "id": "995fefb7-6242-4b78-a450-37ae8a01a419",
   "metadata": {
    "tags": []
   },
   "outputs": [],
   "source": [
    "import pathlib\n",
    "import os\n",
    "\n",
    "import h5py\n",
    "import pandas as pd\n",
    "import json\n",
    "import numpy as np\n",
    "import scipy as sp\n",
    "from matplotlib import pyplot as plt\n",
    "import dask.array as da\n",
    "import dask.dataframe as dd\n",
    "import skimage \n",
    "\n",
    "\n",
    "import SessionTools.two_photon as st2p\n",
    "\n",
    "\n",
    "%load_ext autoreload\n",
    "%autoreload 2 \n",
    "\n",
    "%matplotlib inline"
   ]
  },
  {
   "cell_type": "code",
   "execution_count": null,
   "id": "db3a2483-1cce-46f0-b1cb-11ab304026db",
   "metadata": {},
   "outputs": [],
   "source": []
  },
  {
   "cell_type": "code",
   "execution_count": 19,
   "id": "6453706b-f0bd-45e3-838f-0ef286b17b2e",
   "metadata": {
    "tags": []
   },
   "outputs": [],
   "source": [
    "date = \"18_04_2023\"\n",
    "fly = \"R60D05_jGCaMP7f_tdc2lexa_CsChrimsontdT_fly1\"\n",
    "session = 'ZSeries-04182023-1105-218'\n",
    "basedir = pathlib.PurePath(f'/media/mplitt/SSD_storage/2PData/{date}/{fly}/{session}/')\n",
    "basename_input = pathlib.Path(basedir.joinpath(session))\n",
    "metadata = st2p.preprocessing.bruker_metadata.read(basename_input)\n",
    "\n",
    "metadata['size']['z_planes']=metadata['layout']['frames_per_sequence']"
   ]
  },
  {
   "cell_type": "code",
   "execution_count": 20,
   "id": "434340e6-27c5-4079-9d29-db450d633992",
   "metadata": {
    "tags": []
   },
   "outputs": [
    {
     "name": "stdout",
     "output_type": "stream",
     "text": [
      "(512, 512)\n",
      "[########################################] | 100% Completed | 203.65 ms\n"
     ]
    }
   ],
   "source": [
    "h5name = f'/media/mplitt/SSD_storage/2P_scratch/{date}/{fly}/{session}/data.h5'\n",
    "if not os.path.exists(h5name):\n",
    "    tiff_data = st2p.preprocessing.tiff_tools.read(basename_input, \n",
    "                                            metadata['size'],metadata['layout'], first_chan=1)\n",
    "    st2p.preprocessing.tiff_tools.convert_to_hdf5(tiff_data,h5name, overwrite=True)"
   ]
  },
  {
   "cell_type": "code",
   "execution_count": 21,
   "id": "eeefd23c-a7b1-41a1-ba37-80ecde8d5fd9",
   "metadata": {
    "tags": []
   },
   "outputs": [],
   "source": [
    "f = h5py.File(h5name)\n",
    "data = f['/data'][:]"
   ]
  },
  {
   "cell_type": "code",
   "execution_count": 22,
   "id": "b6417c9c-6983-423c-b90f-9d6a33eb5e08",
   "metadata": {
    "tags": []
   },
   "outputs": [
    {
     "data": {
      "text/plain": [
       "(2, 1, 36, 512, 512)"
      ]
     },
     "execution_count": 22,
     "metadata": {},
     "output_type": "execute_result"
    }
   ],
   "source": [
    "data.shape"
   ]
  },
  {
   "cell_type": "code",
   "execution_count": 23,
   "id": "e67080a6-3d66-4a86-a626-d2cf863f10d1",
   "metadata": {
    "tags": []
   },
   "outputs": [],
   "source": [
    "data = np.squeeze(data)\n"
   ]
  },
  {
   "cell_type": "code",
   "execution_count": 24,
   "id": "d50b6562-b15e-4b60-b2df-7adc372e7b2b",
   "metadata": {
    "tags": []
   },
   "outputs": [
    {
     "data": {
      "text/plain": [
       "(2, 36, 512, 512)"
      ]
     },
     "execution_count": 24,
     "metadata": {},
     "output_type": "execute_result"
    }
   ],
   "source": [
    "data.shape"
   ]
  },
  {
   "cell_type": "code",
   "execution_count": 25,
   "id": "c5f7dc76-a1f6-4ab2-9d8b-01caf1ff5bdc",
   "metadata": {
    "tags": []
   },
   "outputs": [
    {
     "data": {
      "text/plain": [
       "[<Image layer 'Image [1]' at 0x7fc7b04f0250>]"
      ]
     },
     "execution_count": 25,
     "metadata": {},
     "output_type": "execute_result"
    }
   ],
   "source": [
    "import napari\n",
    "nap = napari.view_image(data[0:1,:,:,:], channel_axis=0)\n",
    "nap.add_image(data[1:,:,:,:], channel_axis=0)\n"
   ]
  },
  {
   "cell_type": "code",
   "execution_count": 2,
   "id": "decf135f-8fab-4d0a-b3a9-dc73c96f3511",
   "metadata": {},
   "outputs": [],
   "source": [
    "import napari "
   ]
  },
  {
   "cell_type": "code",
   "execution_count": 3,
   "id": "0c805cae-0540-4f65-91fb-6e524a87f22b",
   "metadata": {
    "tags": []
   },
   "outputs": [
    {
     "name": "stderr",
     "output_type": "stream",
     "text": [
      "Invalid schema for package 'ome-types', please run 'npe2 validate ome-types' to check for manifest errors.\n"
     ]
    },
    {
     "ename": "TypeError",
     "evalue": "'NoneType' object is not iterable",
     "output_type": "error",
     "traceback": [
      "\u001b[0;31m---------------------------------------------------------------------------\u001b[0m",
      "\u001b[0;31mTypeError\u001b[0m                                 Traceback (most recent call last)",
      "Cell \u001b[0;32mIn[3], line 1\u001b[0m\n\u001b[0;32m----> 1\u001b[0m nap \u001b[38;5;241m=\u001b[39m \u001b[43mnapari\u001b[49m\u001b[38;5;241;43m.\u001b[39;49m\u001b[43mview_image\u001b[49m\u001b[43m(\u001b[49m\u001b[43m)\u001b[49m\n",
      "File \u001b[0;32m~/mambaforge/envs/SessionTools/lib/python3.10/site-packages/napari/view_layers.py:179\u001b[0m, in \u001b[0;36mview_image\u001b[0;34m(*args, **kwargs)\u001b[0m\n\u001b[1;32m    177\u001b[0m \u001b[38;5;129m@_merge_layer_viewer_sigs_docs\u001b[39m\n\u001b[1;32m    178\u001b[0m \u001b[38;5;28;01mdef\u001b[39;00m \u001b[38;5;21mview_image\u001b[39m(\u001b[38;5;241m*\u001b[39margs, \u001b[38;5;241m*\u001b[39m\u001b[38;5;241m*\u001b[39mkwargs):\n\u001b[0;32m--> 179\u001b[0m     \u001b[38;5;28;01mreturn\u001b[39;00m \u001b[43m_make_viewer_then\u001b[49m\u001b[43m(\u001b[49m\u001b[38;5;124;43m'\u001b[39;49m\u001b[38;5;124;43madd_image\u001b[39;49m\u001b[38;5;124;43m'\u001b[39;49m\u001b[43m,\u001b[49m\u001b[43m \u001b[49m\u001b[43margs\u001b[49m\u001b[43m,\u001b[49m\u001b[43m \u001b[49m\u001b[43mkwargs\u001b[49m\u001b[43m)\u001b[49m[\u001b[38;5;241m0\u001b[39m]\n",
      "File \u001b[0;32m~/mambaforge/envs/SessionTools/lib/python3.10/site-packages/napari/view_layers.py:160\u001b[0m, in \u001b[0;36m_make_viewer_then\u001b[0;34m(add_method, args, kwargs)\u001b[0m\n\u001b[1;32m    158\u001b[0m kwargs\u001b[38;5;241m.\u001b[39mupdate(kwargs\u001b[38;5;241m.\u001b[39mpop(\u001b[38;5;124m\"\u001b[39m\u001b[38;5;124mkwargs\u001b[39m\u001b[38;5;124m\"\u001b[39m, {}))\n\u001b[1;32m    159\u001b[0m method \u001b[38;5;241m=\u001b[39m \u001b[38;5;28mgetattr\u001b[39m(viewer, add_method)\n\u001b[0;32m--> 160\u001b[0m added \u001b[38;5;241m=\u001b[39m \u001b[43mmethod\u001b[49m\u001b[43m(\u001b[49m\u001b[38;5;241;43m*\u001b[39;49m\u001b[43margs\u001b[49m\u001b[43m,\u001b[49m\u001b[43m \u001b[49m\u001b[38;5;241;43m*\u001b[39;49m\u001b[38;5;241;43m*\u001b[39;49m\u001b[43mkwargs\u001b[49m\u001b[43m)\u001b[49m\n\u001b[1;32m    161\u001b[0m \u001b[38;5;28;01mif\u001b[39;00m \u001b[38;5;28misinstance\u001b[39m(added, \u001b[38;5;28mlist\u001b[39m):\n\u001b[1;32m    162\u001b[0m     added \u001b[38;5;241m=\u001b[39m \u001b[38;5;28mtuple\u001b[39m(added)\n",
      "File \u001b[0;32m~/mambaforge/envs/SessionTools/lib/python3.10/site-packages/napari/utils/migrations.py:44\u001b[0m, in \u001b[0;36mrename_argument.<locals>._wrapper.<locals>._update_from_dict\u001b[0;34m(*args, **kwargs)\u001b[0m\n\u001b[1;32m     42\u001b[0m     kwargs \u001b[38;5;241m=\u001b[39m kwargs\u001b[38;5;241m.\u001b[39mcopy()\n\u001b[1;32m     43\u001b[0m     kwargs[to_name] \u001b[38;5;241m=\u001b[39m kwargs\u001b[38;5;241m.\u001b[39mpop(from_name)\n\u001b[0;32m---> 44\u001b[0m \u001b[38;5;28;01mreturn\u001b[39;00m \u001b[43mfunc\u001b[49m\u001b[43m(\u001b[49m\u001b[38;5;241;43m*\u001b[39;49m\u001b[43margs\u001b[49m\u001b[43m,\u001b[49m\u001b[43m \u001b[49m\u001b[38;5;241;43m*\u001b[39;49m\u001b[38;5;241;43m*\u001b[39;49m\u001b[43mkwargs\u001b[49m\u001b[43m)\u001b[49m\n",
      "File \u001b[0;32m~/mambaforge/envs/SessionTools/lib/python3.10/site-packages/napari/components/viewer_model.py:818\u001b[0m, in \u001b[0;36mViewerModel.add_image\u001b[0;34m(self, data, channel_axis, rgb, colormap, contrast_limits, gamma, interpolation2d, interpolation3d, rendering, depiction, iso_threshold, attenuation, name, metadata, scale, translate, rotate, shear, affine, opacity, blending, visible, multiscale, cache, plane, experimental_clipping_planes)\u001b[0m\n\u001b[1;32m    810\u001b[0m     \u001b[38;5;28;01mif\u001b[39;00m k \u001b[38;5;129;01mnot\u001b[39;00m \u001b[38;5;129;01min\u001b[39;00m iterable_kwargs \u001b[38;5;129;01mand\u001b[39;00m is_sequence(v):\n\u001b[1;32m    811\u001b[0m         \u001b[38;5;28;01mraise\u001b[39;00m \u001b[38;5;167;01mTypeError\u001b[39;00m(\n\u001b[1;32m    812\u001b[0m             trans\u001b[38;5;241m.\u001b[39m_(\n\u001b[1;32m    813\u001b[0m                 \u001b[38;5;124m\"\u001b[39m\u001b[38;5;124mReceived sequence for argument \u001b[39m\u001b[38;5;124m'\u001b[39m\u001b[38;5;132;01m{argument}\u001b[39;00m\u001b[38;5;124m'\u001b[39m\u001b[38;5;124m, did you mean to specify a \u001b[39m\u001b[38;5;124m'\u001b[39m\u001b[38;5;124mchannel_axis\u001b[39m\u001b[38;5;124m'\u001b[39m\u001b[38;5;124m? \u001b[39m\u001b[38;5;124m\"\u001b[39m,\n\u001b[0;32m   (...)\u001b[0m\n\u001b[1;32m    816\u001b[0m             )\n\u001b[1;32m    817\u001b[0m         )\n\u001b[0;32m--> 818\u001b[0m layer \u001b[38;5;241m=\u001b[39m \u001b[43mImage\u001b[49m\u001b[43m(\u001b[49m\u001b[43mdata\u001b[49m\u001b[43m,\u001b[49m\u001b[43m \u001b[49m\u001b[38;5;241;43m*\u001b[39;49m\u001b[38;5;241;43m*\u001b[39;49m\u001b[43mkwargs\u001b[49m\u001b[43m)\u001b[49m\n\u001b[1;32m    819\u001b[0m \u001b[38;5;28mself\u001b[39m\u001b[38;5;241m.\u001b[39mlayers\u001b[38;5;241m.\u001b[39mappend(layer)\n\u001b[1;32m    821\u001b[0m \u001b[38;5;28;01mreturn\u001b[39;00m layer\n",
      "File \u001b[0;32m~/mambaforge/envs/SessionTools/lib/python3.10/site-packages/napari/utils/migrations.py:44\u001b[0m, in \u001b[0;36mrename_argument.<locals>._wrapper.<locals>._update_from_dict\u001b[0;34m(*args, **kwargs)\u001b[0m\n\u001b[1;32m     42\u001b[0m     kwargs \u001b[38;5;241m=\u001b[39m kwargs\u001b[38;5;241m.\u001b[39mcopy()\n\u001b[1;32m     43\u001b[0m     kwargs[to_name] \u001b[38;5;241m=\u001b[39m kwargs\u001b[38;5;241m.\u001b[39mpop(from_name)\n\u001b[0;32m---> 44\u001b[0m \u001b[38;5;28;01mreturn\u001b[39;00m \u001b[43mfunc\u001b[49m\u001b[43m(\u001b[49m\u001b[38;5;241;43m*\u001b[39;49m\u001b[43margs\u001b[49m\u001b[43m,\u001b[49m\u001b[43m \u001b[49m\u001b[38;5;241;43m*\u001b[39;49m\u001b[38;5;241;43m*\u001b[39;49m\u001b[43mkwargs\u001b[49m\u001b[43m)\u001b[49m\n",
      "File \u001b[0;32m~/mambaforge/envs/SessionTools/lib/python3.10/site-packages/napari/layers/image/image.py:257\u001b[0m, in \u001b[0;36m_ImageBase.__init__\u001b[0;34m(self, data, rgb, colormap, contrast_limits, gamma, interpolation2d, interpolation3d, rendering, iso_threshold, attenuation, name, metadata, scale, translate, rotate, shear, affine, opacity, blending, visible, multiscale, cache, depiction, plane, experimental_clipping_planes)\u001b[0m\n\u001b[1;32m    255\u001b[0m \u001b[38;5;28mself\u001b[39m\u001b[38;5;241m.\u001b[39m_data_raw \u001b[38;5;241m=\u001b[39m data\n\u001b[1;32m    256\u001b[0m \u001b[38;5;28;01mif\u001b[39;00m multiscale \u001b[38;5;129;01mis\u001b[39;00m \u001b[38;5;28;01mNone\u001b[39;00m:\n\u001b[0;32m--> 257\u001b[0m     multiscale, data \u001b[38;5;241m=\u001b[39m \u001b[43mguess_multiscale\u001b[49m\u001b[43m(\u001b[49m\u001b[43mdata\u001b[49m\u001b[43m)\u001b[49m\n\u001b[1;32m    258\u001b[0m \u001b[38;5;28;01melif\u001b[39;00m multiscale \u001b[38;5;129;01mand\u001b[39;00m \u001b[38;5;129;01mnot\u001b[39;00m \u001b[38;5;28misinstance\u001b[39m(data, MultiScaleData):\n\u001b[1;32m    259\u001b[0m     data \u001b[38;5;241m=\u001b[39m MultiScaleData(data)\n",
      "File \u001b[0;32m~/mambaforge/envs/SessionTools/lib/python3.10/site-packages/napari/layers/image/_image_utils.py:67\u001b[0m, in \u001b[0;36mguess_multiscale\u001b[0;34m(data)\u001b[0m\n\u001b[1;32m     63\u001b[0m \u001b[38;5;28;01mif\u001b[39;00m \u001b[38;5;28misinstance\u001b[39m(data, (\u001b[38;5;28mlist\u001b[39m, \u001b[38;5;28mtuple\u001b[39m)) \u001b[38;5;129;01mand\u001b[39;00m \u001b[38;5;28mlen\u001b[39m(data) \u001b[38;5;241m==\u001b[39m \u001b[38;5;241m1\u001b[39m:\n\u001b[1;32m     64\u001b[0m     \u001b[38;5;66;03m# pyramid with only one level, unwrap\u001b[39;00m\n\u001b[1;32m     65\u001b[0m     \u001b[38;5;28;01mreturn\u001b[39;00m \u001b[38;5;28;01mFalse\u001b[39;00m, data[\u001b[38;5;241m0\u001b[39m]\n\u001b[0;32m---> 67\u001b[0m shapes \u001b[38;5;241m=\u001b[39m [d\u001b[38;5;241m.\u001b[39mshape \u001b[38;5;28;01mfor\u001b[39;00m d \u001b[38;5;129;01min\u001b[39;00m data]\n\u001b[1;32m     68\u001b[0m sizes \u001b[38;5;241m=\u001b[39m np\u001b[38;5;241m.\u001b[39marray([np\u001b[38;5;241m.\u001b[39mprod(shape, dtype\u001b[38;5;241m=\u001b[39mnp\u001b[38;5;241m.\u001b[39muint64) \u001b[38;5;28;01mfor\u001b[39;00m shape \u001b[38;5;129;01min\u001b[39;00m shapes])\n\u001b[1;32m     69\u001b[0m \u001b[38;5;28;01mif\u001b[39;00m \u001b[38;5;28mlen\u001b[39m(sizes) \u001b[38;5;241m<\u001b[39m\u001b[38;5;241m=\u001b[39m \u001b[38;5;241m1\u001b[39m:\n",
      "\u001b[0;31mTypeError\u001b[0m: 'NoneType' object is not iterable"
     ]
    }
   ],
   "source": [
    "nap = napari.view_image()\n"
   ]
  },
  {
   "cell_type": "code",
   "execution_count": null,
   "id": "69b92bc9-a8b5-4b57-b971-e1cc2ea0cd36",
   "metadata": {},
   "outputs": [],
   "source": []
  }
 ],
 "metadata": {
  "kernelspec": {
   "display_name": "Python 3 (ipykernel)",
   "language": "python",
   "name": "python3"
  },
  "language_info": {
   "codemirror_mode": {
    "name": "ipython",
    "version": 3
   },
   "file_extension": ".py",
   "mimetype": "text/x-python",
   "name": "python",
   "nbconvert_exporter": "python",
   "pygments_lexer": "ipython3",
   "version": "3.10.8"
  }
 },
 "nbformat": 4,
 "nbformat_minor": 5
}
