{
 "cells": [
  {
   "cell_type": "code",
   "execution_count": 1,
   "id": "094cd84c-4ca1-4181-bfc3-7d52adfc7eff",
   "metadata": {
    "tags": []
   },
   "outputs": [],
   "source": [
    "import pathlib\n",
    "import numpy as np\n",
    "import scipy as sp\n",
    "import pandas as pd\n",
    "from matplotlib import pyplot as plt\n",
    "import astropy as ast\n",
    "from astropy import stats\n",
    "\n",
    "\n",
    "\n",
    "import SessionTools.two_photon as st2p\n",
    "\n",
    "plt.rcParams['pdf.fonttype']=42\n",
    "\n",
    "%load_ext autoreload\n",
    "%autoreload 2 \n",
    "\n",
    "\n",
    "%matplotlib inline"
   ]
  },
  {
   "cell_type": "code",
   "execution_count": 2,
   "id": "6ccba000-26fb-42ad-9434-14f2917bbd3b",
   "metadata": {
    "tags": []
   },
   "outputs": [
    {
     "name": "stdout",
     "output_type": "stream",
     "text": [
      "Index(['date', 'fly', 'sess', 'fictrac_scan_num', 'fictrac_file', 'condition',\n",
      "       'scan_type', 'usable', 'notes'],\n",
      "      dtype='object')\n"
     ]
    }
   ],
   "source": [
    "basedir = pathlib.Path('/media/mplitt/SSD_storage/2P_scratch/R18B05LexA_CsChrimsontdT_R60D05Gal4_jGCaMP7f/remapping')\n",
    "sess_df = pd.read_csv(basedir / 'sessions.csv')\n",
    "print(sess_df.columns)\n",
    "sess_df['fly_id'] = [row['date']+'_'+row['fly'] +'_' + row['condition'] for _, row in sess_df.iterrows()]\n",
    "sess_df['mean offset'] = [np.nan for _, row in sess_df.iterrows()]\n",
    "sess_df['offset var.'] = [np.nan for _, row in sess_df.iterrows()]\n",
    "\n",
    "\n",
    "# figfolder = pathlib.Path('/media/mplitt/SSD_storage/fig_scratch/EL_meetings/EL_jGCaMP7b_TBHRNAi/')\n",
    "# figfolder.mkdir(parents=True, exist_ok=True)\n",
    "\n",
    "# sess_df = sess_df.loc[sess_df['usable']==1]"
   ]
  },
  {
   "cell_type": "code",
   "execution_count": 20,
   "id": "db9bad77-1809-4918-ba2d-6063d1f1cd5e",
   "metadata": {
    "tags": []
   },
   "outputs": [
    {
     "data": {
      "text/html": [
       "<div>\n",
       "<style scoped>\n",
       "    .dataframe tbody tr th:only-of-type {\n",
       "        vertical-align: middle;\n",
       "    }\n",
       "\n",
       "    .dataframe tbody tr th {\n",
       "        vertical-align: top;\n",
       "    }\n",
       "\n",
       "    .dataframe thead th {\n",
       "        text-align: right;\n",
       "    }\n",
       "</style>\n",
       "<table border=\"1\" class=\"dataframe\">\n",
       "  <thead>\n",
       "    <tr style=\"text-align: right;\">\n",
       "      <th></th>\n",
       "      <th>date</th>\n",
       "      <th>fly</th>\n",
       "      <th>sess</th>\n",
       "      <th>fictrac_scan_num</th>\n",
       "      <th>fictrac_file</th>\n",
       "      <th>condition</th>\n",
       "      <th>scan_type</th>\n",
       "      <th>usable</th>\n",
       "      <th>notes</th>\n",
       "      <th>fly_id</th>\n",
       "      <th>mean offset</th>\n",
       "      <th>offset var.</th>\n",
       "    </tr>\n",
       "  </thead>\n",
       "  <tbody>\n",
       "    <tr>\n",
       "      <th>0</th>\n",
       "      <td>11_07_2024</td>\n",
       "      <td>fly1</td>\n",
       "      <td>baseline-000</td>\n",
       "      <td>0</td>\n",
       "      <td>fictrac-20240711_112205.dat</td>\n",
       "      <td>remap</td>\n",
       "      <td>baseline</td>\n",
       "      <td>NaN</td>\n",
       "      <td>NaN</td>\n",
       "      <td>11_07_2024_fly1_remap</td>\n",
       "      <td>-0.282750</td>\n",
       "      <td>0.558831</td>\n",
       "    </tr>\n",
       "    <tr>\n",
       "      <th>1</th>\n",
       "      <td>11_07_2024</td>\n",
       "      <td>fly1</td>\n",
       "      <td>remap_0deg-001</td>\n",
       "      <td>1</td>\n",
       "      <td>fictrac-20240711_112205.dat</td>\n",
       "      <td>remap</td>\n",
       "      <td>remap_0deg</td>\n",
       "      <td>NaN</td>\n",
       "      <td>NaN</td>\n",
       "      <td>11_07_2024_fly1_remap</td>\n",
       "      <td>-0.174929</td>\n",
       "      <td>0.818834</td>\n",
       "    </tr>\n",
       "    <tr>\n",
       "      <th>2</th>\n",
       "      <td>11_07_2024</td>\n",
       "      <td>fly1</td>\n",
       "      <td>post_0deg-002</td>\n",
       "      <td>2</td>\n",
       "      <td>fictrac-20240711_112205.dat</td>\n",
       "      <td>remap</td>\n",
       "      <td>post_0deg</td>\n",
       "      <td>NaN</td>\n",
       "      <td>NaN</td>\n",
       "      <td>11_07_2024_fly1_remap</td>\n",
       "      <td>-0.102078</td>\n",
       "      <td>0.501020</td>\n",
       "    </tr>\n",
       "    <tr>\n",
       "      <th>3</th>\n",
       "      <td>11_07_2024</td>\n",
       "      <td>fly1</td>\n",
       "      <td>remap_180deg-004</td>\n",
       "      <td>4</td>\n",
       "      <td>fictrac-20240711_112205.dat</td>\n",
       "      <td>remap</td>\n",
       "      <td>remap_180deg</td>\n",
       "      <td>NaN</td>\n",
       "      <td>NaN</td>\n",
       "      <td>11_07_2024_fly1_remap</td>\n",
       "      <td>3.008766</td>\n",
       "      <td>0.930316</td>\n",
       "    </tr>\n",
       "    <tr>\n",
       "      <th>4</th>\n",
       "      <td>11_07_2024</td>\n",
       "      <td>fly1</td>\n",
       "      <td>post_180deg-006</td>\n",
       "      <td>6</td>\n",
       "      <td>fictrac-20240711_112205.dat</td>\n",
       "      <td>remap</td>\n",
       "      <td>post_180deg</td>\n",
       "      <td>NaN</td>\n",
       "      <td>NaN</td>\n",
       "      <td>11_07_2024_fly1_remap</td>\n",
       "      <td>-3.042862</td>\n",
       "      <td>0.693973</td>\n",
       "    </tr>\n",
       "  </tbody>\n",
       "</table>\n",
       "</div>"
      ],
      "text/plain": [
       "         date   fly              sess  fictrac_scan_num  \\\n",
       "0  11_07_2024  fly1      baseline-000                 0   \n",
       "1  11_07_2024  fly1    remap_0deg-001                 1   \n",
       "2  11_07_2024  fly1     post_0deg-002                 2   \n",
       "3  11_07_2024  fly1  remap_180deg-004                 4   \n",
       "4  11_07_2024  fly1   post_180deg-006                 6   \n",
       "\n",
       "                  fictrac_file condition     scan_type  usable notes  \\\n",
       "0  fictrac-20240711_112205.dat     remap      baseline     NaN   NaN   \n",
       "1  fictrac-20240711_112205.dat     remap    remap_0deg     NaN   NaN   \n",
       "2  fictrac-20240711_112205.dat     remap     post_0deg     NaN   NaN   \n",
       "3  fictrac-20240711_112205.dat     remap  remap_180deg     NaN   NaN   \n",
       "4  fictrac-20240711_112205.dat     remap   post_180deg     NaN   NaN   \n",
       "\n",
       "                  fly_id  mean offset  offset var.  \n",
       "0  11_07_2024_fly1_remap    -0.282750     0.558831  \n",
       "1  11_07_2024_fly1_remap    -0.174929     0.818834  \n",
       "2  11_07_2024_fly1_remap    -0.102078     0.501020  \n",
       "3  11_07_2024_fly1_remap     3.008766     0.930316  \n",
       "4  11_07_2024_fly1_remap    -3.042862     0.693973  "
      ]
     },
     "execution_count": 20,
     "metadata": {},
     "output_type": "execute_result"
    }
   ],
   "source": [
    "sess_df.head()"
   ]
  },
  {
   "cell_type": "code",
   "execution_count": 15,
   "id": "36d5c95f-8269-422c-939a-f6f4e00f3f6a",
   "metadata": {
    "tags": []
   },
   "outputs": [],
   "source": [
    "for index,row in sess_df.iterrows():\n",
    "    outdir = pathlib.PurePath( basedir / row['condition'] / row['date'] / row['fly'] / row['sess'] / 'preprocess.pkl')\n",
    "    pp = st2p.preprocessing.EBImagingSession.from_file(outdir)\n",
    "    dff = pp.calculate_zscored_F('rois', exp_detrend=True, zscore=False, background_ts='background')[-1,:,:] -1\n",
    "    \n",
    "    heading = np.angle(np.exp(1j*(-1*pp.voltage_recording_aligned[' Heading'].to_numpy()-np.pi)))\n",
    "    h_mask = np.abs(heading)<2.5\n",
    "        \n",
    "        \n",
    "    x_f,y_f = st2p.utilities.pol2cart(dff ,np.linspace(-np.pi,np.pi,num=dff.shape[0])[:,np.newaxis])\n",
    "    rho,phi = st2p.utilities.cart2pol(x_f.mean(axis=0), y_f.mean(axis=0))\n",
    "\n",
    "    _,offset = st2p.utilities.cart2pol(*st2p.utilities.pol2cart(np.ones(heading.shape),phi-heading))\n",
    "    # print(offset.shape)\n",
    "    \n",
    "    \n",
    "    x_o, y_o = st2p.utilities.pol2cart(np.ones(heading[h_mask].shape), offset[h_mask])\n",
    "    r, offset_mu = st2p.utilities.cart2pol(x_o.mean(), y_o.mean())\n",
    "    \n",
    "    sess_df.loc[index, 'mean offset'] = offset_mu\n",
    "    sess_df.loc[index, 'offset var.'] = sp.stats.circvar(offset[h_mask])\n"
   ]
  },
  {
   "cell_type": "code",
   "execution_count": 23,
   "id": "b749b887-7ead-4296-a96a-cce7d9aa9384",
   "metadata": {
    "tags": []
   },
   "outputs": [],
   "source": [
    "remap_sess_df = sess_df[sess_df['condition']=='remap']\n",
    "flies = remap_sess_df['fly_id'].unique()\n",
    "\n",
    "remap_data = {'fly': [],\n",
    "              'baseline_mu':[],\n",
    "              'baseline_var':[],\n",
    "              '0deg_mu':[],\n",
    "              '0deg_var':[],\n",
    "              '180deg_mu':[],\n",
    "              '180deg_var':[],\n",
    "             }\n",
    "\n"
   ]
  },
  {
   "cell_type": "code",
   "execution_count": 16,
   "id": "d4073680-f21c-4fff-a971-80efe2a15b78",
   "metadata": {
    "tags": []
   },
   "outputs": [
    {
     "name": "stdout",
     "output_type": "stream",
     "text": [
      "13\n"
     ]
    },
    {
     "data": {
      "text/plain": [
       "<matplotlib.collections.PathCollection at 0x7e7e00545cf0>"
      ]
     },
     "execution_count": 16,
     "metadata": {},
     "output_type": "execute_result"
    },
    {
     "data": {
      "image/png": "[encoded data removed]",
      "text/plain": [
       "<Figure size 640x480 with 1 Axes>"
      ]
     },
     "metadata": {},
     "output_type": "display_data"
    }
   ],
   "source": [
    "fig, ax = plt.subplots()\n",
    "baseline_mask = (sess_df['condition']=='remap') * (sess_df['scan_type']=='baseline')\n",
    "print(baseline_mask.sum())\n",
    "ax.scatter(np.zeros(baseline_mask.sum()), sess_df.loc[baseline_mask, 'mean offset'])\n",
    "\n",
    "mask0 = (sess_df['condition']=='remap') * (sess_df['scan_type']=='post_0deg')\n",
    "ax.scatter(np.ones(mask0.sum()), sess_df.loc[mask0, 'mean offset'])\n",
    "\n",
    "\n",
    "mask180 = (sess_df['condition']=='remap') * (sess_df['scan_type']=='post_180deg')\n",
    "ax.scatter(np.ones(mask180.sum())+1, sess_df.loc[mask180, 'mean offset'])"
   ]
  },
  {
   "cell_type": "code",
   "execution_count": 17,
   "id": "24443573-6552-4d9b-8181-43e2a4c8fee1",
   "metadata": {
    "tags": []
   },
   "outputs": [
    {
     "name": "stdout",
     "output_type": "stream",
     "text": [
      "10\n"
     ]
    },
    {
     "data": {
      "text/plain": [
       "<matplotlib.collections.PathCollection at 0x7e7e0051ac80>"
      ]
     },
     "execution_count": 17,
     "metadata": {},
     "output_type": "execute_result"
    },
    {
     "data": {
      "image/png": "[encoded data removed]",
      "text/plain": [
       "<Figure size 640x480 with 1 Axes>"
      ]
     },
     "metadata": {},
     "output_type": "display_data"
    }
   ],
   "source": [
    "fig, ax = plt.subplots()\n",
    "baseline_mask = (sess_df['condition']=='no_chrimson') * (sess_df['scan_type']=='baseline')\n",
    "print(baseline_mask.sum())\n",
    "ax.scatter(np.zeros(baseline_mask.sum()), sess_df.loc[baseline_mask, 'mean offset'])\n",
    "\n",
    "mask0 = (sess_df['condition']=='no_chrimson') * (sess_df['scan_type']=='post_0deg')\n",
    "ax.scatter(np.ones(mask0.sum()), sess_df.loc[mask0, 'mean offset'])\n",
    "\n",
    "\n",
    "mask180 = (sess_df['condition']=='no_chrimson') * (sess_df['scan_type']=='post_180deg')\n",
    "ax.scatter(np.ones(mask180.sum())+1, sess_df.loc[mask180, 'mean offset'])"
   ]
  },
  {
   "cell_type": "code",
   "execution_count": 18,
   "id": "82773e22-19cf-49d9-999d-dff20b285e2b",
   "metadata": {
    "tags": []
   },
   "outputs": [
    {
     "name": "stdout",
     "output_type": "stream",
     "text": [
      "7\n"
     ]
    },
    {
     "data": {
      "text/plain": [
       "<matplotlib.collections.PathCollection at 0x7e7e009159f0>"
      ]
     },
     "execution_count": 18,
     "metadata": {},
     "output_type": "execute_result"
    },
    {
     "data": {
      "image/png": "[encoded data removed]",
      "text/plain": [
       "<Figure size 640x480 with 1 Axes>"
      ]
     },
     "metadata": {},
     "output_type": "display_data"
    }
   ],
   "source": [
    "fig, ax = plt.subplots()\n",
    "baseline_mask = (sess_df['condition']=='novis_control') * (sess_df['scan_type']=='baseline')\n",
    "print(baseline_mask.sum())\n",
    "ax.scatter(np.zeros(baseline_mask.sum()), sess_df.loc[baseline_mask, 'mean offset'])\n",
    "\n",
    "mask0 = (sess_df['condition']=='novis_control') * (sess_df['scan_type']=='post_novis1')\n",
    "ax.scatter(np.ones(mask0.sum()), sess_df.loc[mask0, 'mean offset'])\n",
    "\n",
    "\n",
    "mask180 = (sess_df['condition']=='novis_control') * (sess_df['scan_type']=='post_novis2')\n",
    "ax.scatter(np.ones(mask180.sum())+1, sess_df.loc[mask180, 'mean offset'])"
   ]
  },
  {
   "cell_type": "code",
   "execution_count": null,
   "id": "625eca9c-1783-4f99-86de-ede153b9264b",
   "metadata": {},
   "outputs": [],
   "source": []
  }
 ],
 "metadata": {
  "kernelspec": {
   "display_name": "Python 3 (ipykernel)",
   "language": "python",
   "name": "python3"
  },
  "language_info": {
   "codemirror_mode": {
    "name": "ipython",
    "version": 3
   },
   "file_extension": ".py",
   "mimetype": "text/x-python",
   "name": "python",
   "nbconvert_exporter": "python",
   "pygments_lexer": "ipython3",
   "version": "3.10.8"
  }
 },
 "nbformat": 4,
 "nbformat_minor": 5
}
